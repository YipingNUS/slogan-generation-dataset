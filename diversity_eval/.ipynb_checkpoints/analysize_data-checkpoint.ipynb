{
 "cells": [
  {
   "cell_type": "code",
   "execution_count": 1,
   "metadata": {},
   "outputs": [],
   "source": [
    "import pandas as pd\n",
    "from collections import Counter"
   ]
  },
  {
   "cell_type": "code",
   "execution_count": 2,
   "metadata": {},
   "outputs": [],
   "source": [
    "df = pd.read_csv(\"annotation_result.csv\")"
   ]
  },
  {
   "cell_type": "code",
   "execution_count": 3,
   "metadata": {},
   "outputs": [
    {
     "data": {
      "text/plain": [
       "array(['Slogan #1', 'Slogan #2', \"Can't decide\"], dtype=object)"
      ]
     },
     "execution_count": 3,
     "metadata": {},
     "output_type": "execute_result"
    }
   ],
   "source": [
    "df['label'].unique()"
   ]
  },
  {
   "cell_type": "code",
   "execution_count": 4,
   "metadata": {},
   "outputs": [],
   "source": [
    "exp_ids, ctrls, labels = df['exp_id'].tolist(), df['ctrl'].tolist(), df['label'].tolist()"
   ]
  },
  {
   "cell_type": "code",
   "execution_count": 5,
   "metadata": {},
   "outputs": [
    {
     "data": {
      "text/plain": [
       "{'NN': Counter(),\n",
       " 'JJ': Counter(),\n",
       " 'VB': Counter(),\n",
       " 'DT': Counter(),\n",
       " 'PR': Counter(),\n",
       " 'OTHER': Counter()}"
      ]
     },
     "execution_count": 5,
     "metadata": {},
     "output_type": "execute_result"
    }
   ],
   "source": [
    "result = {ctrl:Counter() for ctrl in ['NN', 'JJ', 'VB', 'DT', 'PR', 'OTHER']}\n",
    "result"
   ]
  },
  {
   "cell_type": "code",
   "execution_count": 6,
   "metadata": {},
   "outputs": [],
   "source": [
    "for exp_id, ctrl, label in zip(exp_ids, ctrls, labels):\n",
    "    if label == \"Can't decide\":\n",
    "        result[ctrl].update([\"tie\"])\n",
    "    elif label == \"Slogan #1\":\n",
    "        if exp_id == 0:\n",
    "            result[ctrl].update([\"better\"])\n",
    "        else:\n",
    "            result[ctrl].update([\"worse\"])\n",
    "    elif label == \"Slogan #2\":\n",
    "        if exp_id == 0:\n",
    "            result[ctrl].update([\"worse\"])\n",
    "        else:\n",
    "            result[ctrl].update([\"better\"])"
   ]
  },
  {
   "cell_type": "code",
   "execution_count": 7,
   "metadata": {},
   "outputs": [
    {
     "name": "stdout",
     "output_type": "stream",
     "text": [
      "NN\n",
      "Counter({'better': 28, 'worse': 19, 'tie': 3})\n",
      "JJ\n",
      "Counter({'better': 32, 'worse': 15, 'tie': 3})\n",
      "VB\n",
      "Counter({'better': 36, 'worse': 14})\n",
      "DT\n",
      "Counter({'better': 41, 'worse': 8, 'tie': 1})\n",
      "PR\n",
      "Counter({'better': 37, 'worse': 13})\n",
      "OTHER\n",
      "Counter({'better': 39, 'worse': 11})\n"
     ]
    }
   ],
   "source": [
    "for ctrl in ['NN', 'JJ', 'VB', 'DT', 'PR', 'OTHER']:\n",
    "    print(ctrl)\n",
    "    print(result[ctrl])"
   ]
  },
  {
   "cell_type": "markdown",
   "metadata": {},
   "source": [
    "## Statistical test"
   ]
  },
  {
   "cell_type": "code",
   "execution_count": 8,
   "metadata": {},
   "outputs": [],
   "source": [
    "from scipy.stats import wilcoxon"
   ]
  },
  {
   "cell_type": "code",
   "execution_count": 9,
   "metadata": {},
   "outputs": [],
   "source": [
    "def prepare_test_data(ct):\n",
    "    x, y = [], []\n",
    "    for k, v in ct.items():\n",
    "        if k == 'better':\n",
    "            x.extend([1]*v)\n",
    "            y.extend([0]*v)\n",
    "        elif k == 'tie':\n",
    "            x.extend([0.5]*v)\n",
    "            y.extend([0.5]*v)\n",
    "        else:\n",
    "            x.extend([0]*v)\n",
    "            y.extend([1]*v)\n",
    "    return x, y"
   ]
  },
  {
   "cell_type": "code",
   "execution_count": 10,
   "metadata": {},
   "outputs": [
    {
     "name": "stdout",
     "output_type": "stream",
     "text": [
      "NN\n",
      "Counter({'better': 28, 'worse': 19, 'tie': 3})\n",
      "WilcoxonResult(statistic=456.0, pvalue=0.18925543169201764)\n",
      "JJ\n",
      "Counter({'better': 32, 'worse': 15, 'tie': 3})\n",
      "WilcoxonResult(statistic=360.0, pvalue=0.013149117330897018)\n",
      "VB\n",
      "Counter({'better': 36, 'worse': 14})\n",
      "WilcoxonResult(statistic=357.0, pvalue=0.00186284629798189)\n",
      "DT\n",
      "Counter({'better': 41, 'worse': 8, 'tie': 1})\n",
      "WilcoxonResult(statistic=200.0, pvalue=2.4256011426534493e-06)\n",
      "PR\n",
      "Counter({'better': 37, 'worse': 13})\n",
      "WilcoxonResult(statistic=331.5, pvalue=0.0006885138966450773)\n",
      "OTHER\n",
      "Counter({'better': 39, 'worse': 11})\n",
      "WilcoxonResult(statistic=280.5, pvalue=7.50131946654591e-05)\n",
      "overall:\n",
      "WilcoxonResult(statistic=11760.0, pvalue=7.852147576316655e-15)\n"
     ]
    }
   ],
   "source": [
    "x_all, y_all = list(), list()\n",
    "for ctrl in ['NN', 'JJ', 'VB', 'DT', 'PR', 'OTHER']:\n",
    "    print(ctrl)\n",
    "    print(result[ctrl])\n",
    "    x, y = prepare_test_data(result[ctrl])\n",
    "    x_all.extend(x)\n",
    "    y_all.extend(y)\n",
    "    print(wilcoxon(x, y))\n",
    "print(\"overall:\")\n",
    "print(wilcoxon(x_all, y_all))"
   ]
  },
  {
   "cell_type": "code",
   "execution_count": null,
   "metadata": {},
   "outputs": [],
   "source": []
  }
 ],
 "metadata": {
  "kernelspec": {
   "display_name": "Python 3",
   "language": "python",
   "name": "python3"
  },
  "language_info": {
   "codemirror_mode": {
    "name": "ipython",
    "version": 3
   },
   "file_extension": ".py",
   "mimetype": "text/x-python",
   "name": "python",
   "nbconvert_exporter": "python",
   "pygments_lexer": "ipython3",
   "version": "3.8.3"
  }
 },
 "nbformat": 4,
 "nbformat_minor": 4
}
