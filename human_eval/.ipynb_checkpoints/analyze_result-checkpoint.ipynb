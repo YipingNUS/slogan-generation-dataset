{
 "cells": [
  {
   "cell_type": "code",
   "execution_count": 1,
   "metadata": {},
   "outputs": [],
   "source": [
    "import sklearn\n",
    "from sklearn.metrics import cohen_kappa_score\n",
    "\n",
    "from scipy import stats\n",
    "\n",
    "import pandas as pd"
   ]
  },
  {
   "cell_type": "code",
   "execution_count": 2,
   "metadata": {},
   "outputs": [],
   "source": [
    "annotators = ['annotator1', 'annotator2']"
   ]
  },
  {
   "cell_type": "code",
   "execution_count": 3,
   "metadata": {},
   "outputs": [],
   "source": [
    "df_1 = pd.read_csv(f\"{annotators[0]}/annotation_result.csv\")"
   ]
  },
  {
   "cell_type": "code",
   "execution_count": 4,
   "metadata": {},
   "outputs": [],
   "source": [
    "assert df_1.shape == (250, 6)\n",
    "assert df_1['catchyness'].unique().shape[0] == 3\n",
    "assert df_1['coherence'].unique().shape[0] == 3\n",
    "assert df_1['well-formedness'].unique().shape[0] == 3"
   ]
  },
  {
   "cell_type": "code",
   "execution_count": 5,
   "metadata": {},
   "outputs": [],
   "source": [
    "df_2 = pd.read_csv(f\"{annotators[1]}/annotation_result.csv\")"
   ]
  },
  {
   "cell_type": "code",
   "execution_count": 6,
   "metadata": {},
   "outputs": [],
   "source": [
    "assert df_2.shape == (250, 6)\n",
    "assert df_2['catchyness'].unique().shape[0] == 3\n",
    "assert df_2['coherence'].unique().shape[0] == 3\n",
    "assert df_2['well-formedness'].unique().shape[0] == 3"
   ]
  },
  {
   "cell_type": "markdown",
   "metadata": {},
   "source": [
    "## 1. Calculate Inter-Annotator Agreement\n",
    "\n",
    "* https://scikit-learn.org/stable/modules/generated/sklearn.metrics.cohen_kappa_score.html\n",
    "* https://towardsdatascience.com/inter-annotator-agreement-2f46c6d37bf3\n",
    "\n",
    "Cohen suggested the Kappa result be interpreted as follows: \n",
    "\n",
    "* values ≤ 0 as indicating no agreement and \n",
    "* 0.01–0.20 as none to slight, \n",
    "* 0.21–0.40 as fair, \n",
    "* 0.41– 0.60 as moderate, \n",
    "* 0.61–0.80 as substantial, \n",
    "* and 0.81–1.00 as almost perfect agreement"
   ]
  },
  {
   "cell_type": "code",
   "execution_count": 7,
   "metadata": {},
   "outputs": [],
   "source": [
    "aspects = ['coherence', 'well-formedness', 'catchyness']"
   ]
  },
  {
   "cell_type": "code",
   "execution_count": 8,
   "metadata": {},
   "outputs": [
    {
     "name": "stdout",
     "output_type": "stream",
     "text": [
      "Cohen's Kappa for coherence: 0.49290060851926976\n",
      "\tAnnotator 1 mean: 2.776\n",
      "\tAnnotator 2 mean: 2.72\n",
      "Cohen's Kappa for well-formedness: 0.5947182638253365\n",
      "\tAnnotator 1 mean: 1.988\n",
      "\tAnnotator 2 mean: 2.22\n",
      "Cohen's Kappa for catchyness: 0.16402040030792908\n",
      "\tAnnotator 1 mean: 1.372\n",
      "\tAnnotator 2 mean: 1.908\n"
     ]
    }
   ],
   "source": [
    "for aspect in aspects:\n",
    "    annotator1_scores = df_1[aspect].tolist()\n",
    "    annotator2_scores = df_2[aspect].tolist()\n",
    "    kappa = cohen_kappa_score(annotator1_scores, annotator2_scores)\n",
    "    print(f\"Cohen's Kappa for {aspect}: {kappa}\")\n",
    "    print(f\"\\tAnnotator 1 mean: {df_1[aspect].mean()}\")\n",
    "    print(f\"\\tAnnotator 2 mean: {df_2[aspect].mean()}\")"
   ]
  },
  {
   "cell_type": "code",
   "execution_count": 9,
   "metadata": {},
   "outputs": [
    {
     "data": {
      "image/png": "[encoded data removed]",
      "text/plain": [
       "<Figure size 432x288 with 2 Axes>"
      ]
     },
     "metadata": {
      "needs_background": "light"
     },
     "output_type": "display_data"
    }
   ],
   "source": [
    "import matplotlib.pyplot as plt\n",
    "from sklearn.metrics import confusion_matrix\n",
    "cm = confusion_matrix(df_2['catchyness'].tolist(), df_1['catchyness'].tolist())\n",
    "import matplotlib.pyplot as plt\n",
    "from sklearn.metrics import ConfusionMatrixDisplay\n",
    "\n",
    "disp = ConfusionMatrixDisplay(confusion_matrix=cm,\n",
    "                              display_labels=[1,2,3])\n",
    "\n",
    "\n",
    "# NOTE: Fill all variables here with default values of the plot_confusion_matrix\n",
    "disp = disp.plot(cmap='Blues')\n",
    "plt.xlabel(\"annotator #1 score\", fontsize=14)\n",
    "plt.ylabel(\"annotator #2 score\", fontsize=14)\n",
    "plt.savefig('catchiness_confusion_matrix.png', dpi=300)\n",
    "plt.show()"
   ]
  },
  {
   "cell_type": "markdown",
   "metadata": {},
   "source": [
    "## Calculate Average Scores For Each System"
   ]
  },
  {
   "cell_type": "code",
   "execution_count": 10,
   "metadata": {},
   "outputs": [],
   "source": [
    "df = df_1.copy()\n",
    "for aspect in aspects:\n",
    "    annotator1_scores = df_1[aspect]\n",
    "    annotator2_scores = df_2[aspect]\n",
    "    avg_scores = (annotator1_scores + annotator2_scores)/2\n",
    "    df[aspect] = avg_scores"
   ]
  },
  {
   "cell_type": "code",
   "execution_count": 11,
   "metadata": {},
   "outputs": [
    {
     "data": {
      "text/html": [
       "<div>\n",
       "<style scoped>\n",
       "    .dataframe tbody tr th:only-of-type {\n",
       "        vertical-align: middle;\n",
       "    }\n",
       "\n",
       "    .dataframe tbody tr th {\n",
       "        vertical-align: top;\n",
       "    }\n",
       "\n",
       "    .dataframe thead th {\n",
       "        text-align: right;\n",
       "    }\n",
       "</style>\n",
       "<table border=\"1\" class=\"dataframe\">\n",
       "  <thead>\n",
       "    <tr style=\"text-align: right;\">\n",
       "      <th></th>\n",
       "      <th>coherence</th>\n",
       "      <th>well-formedness</th>\n",
       "      <th>catchyness</th>\n",
       "    </tr>\n",
       "    <tr>\n",
       "      <th>system</th>\n",
       "      <th></th>\n",
       "      <th></th>\n",
       "      <th></th>\n",
       "    </tr>\n",
       "  </thead>\n",
       "  <tbody>\n",
       "    <tr>\n",
       "      <th>bart</th>\n",
       "      <td>2.89</td>\n",
       "      <td>2.81</td>\n",
       "      <td>1.87</td>\n",
       "    </tr>\n",
       "    <tr>\n",
       "      <th>first_sent</th>\n",
       "      <td>3.00</td>\n",
       "      <td>1.49</td>\n",
       "      <td>1.19</td>\n",
       "    </tr>\n",
       "    <tr>\n",
       "      <th>ours</th>\n",
       "      <td>2.91</td>\n",
       "      <td>2.79</td>\n",
       "      <td>2.22</td>\n",
       "    </tr>\n",
       "    <tr>\n",
       "      <th>pgen</th>\n",
       "      <td>2.63</td>\n",
       "      <td>2.07</td>\n",
       "      <td>1.51</td>\n",
       "    </tr>\n",
       "    <tr>\n",
       "      <th>template</th>\n",
       "      <td>2.31</td>\n",
       "      <td>1.36</td>\n",
       "      <td>1.41</td>\n",
       "    </tr>\n",
       "  </tbody>\n",
       "</table>\n",
       "</div>"
      ],
      "text/plain": [
       "            coherence  well-formedness  catchyness\n",
       "system                                            \n",
       "bart             2.89             2.81        1.87\n",
       "first_sent       3.00             1.49        1.19\n",
       "ours             2.91             2.79        2.22\n",
       "pgen             2.63             2.07        1.51\n",
       "template         2.31             1.36        1.41"
      ]
     },
     "execution_count": 11,
     "metadata": {},
     "output_type": "execute_result"
    }
   ],
   "source": [
    "df.groupby(['system']).mean()"
   ]
  },
  {
   "cell_type": "markdown",
   "metadata": {},
   "source": [
    "## Calculate paired t-test\n",
    "\n",
    "https://docs.scipy.org/doc/scipy/reference/generated/scipy.stats.ttest_rel.html"
   ]
  },
  {
   "cell_type": "code",
   "execution_count": 12,
   "metadata": {},
   "outputs": [
    {
     "name": "stdout",
     "output_type": "stream",
     "text": [
      "first_sent vs. ours\n",
      "aspect paired t-test:\n",
      "Ttest_relResult(statistic=2.9090697081995436, pvalue=0.005436282239523228)\n",
      "aspect paired t-test:\n",
      "Ttest_relResult(statistic=-11.46492234794656, pvalue=1.7770270480513966e-15)\n",
      "aspect paired t-test:\n",
      "Ttest_relResult(statistic=-11.485027708128662, pvalue=1.6684949321065035e-15)\n"
     ]
    }
   ],
   "source": [
    "ctrl, exp = 'first_sent', 'ours'  # TODO: change the ctrl & exp ground \n",
    "print(f\"{ctrl} vs. {exp}\")\n",
    "for aspect in aspects:\n",
    "    control_scores = df[df['system']==ctrl][aspect]\n",
    "    exp_scores = df[df['system']==exp][aspect]\n",
    "    print(\"aspect paired t-test:\")\n",
    "    print(stats.ttest_rel(control_scores, exp_scores))"
   ]
  },
  {
   "cell_type": "code",
   "execution_count": null,
   "metadata": {},
   "outputs": [],
   "source": []
  }
 ],
 "metadata": {
  "kernelspec": {
   "display_name": "Python 3",
   "language": "python",
   "name": "python3"
  },
  "language_info": {
   "codemirror_mode": {
    "name": "ipython",
    "version": 3
   },
   "file_extension": ".py",
   "mimetype": "text/x-python",
   "name": "python",
   "nbconvert_exporter": "python",
   "pygments_lexer": "ipython3",
   "version": "3.8.3"
  }
 },
 "nbformat": 4,
 "nbformat_minor": 4
}
